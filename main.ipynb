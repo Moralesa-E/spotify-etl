{
 "cells": [
  {
   "cell_type": "code",
   "execution_count": 124,
   "metadata": {},
   "outputs": [
    {
     "name": "stderr",
     "output_type": "stream",
     "text": [
      "Matplotlib is building the font cache; this may take a moment.\n"
     ]
    }
   ],
   "source": [
    "import pandas as pd\n",
    "import seaborn as sns\n",
    "import datetime "
   ]
  },
  {
   "cell_type": "code",
   "execution_count": 82,
   "metadata": {},
   "outputs": [
    {
     "data": {
      "text/html": [
       "<div>\n",
       "<style scoped>\n",
       "    .dataframe tbody tr th:only-of-type {\n",
       "        vertical-align: middle;\n",
       "    }\n",
       "\n",
       "    .dataframe tbody tr th {\n",
       "        vertical-align: top;\n",
       "    }\n",
       "\n",
       "    .dataframe thead th {\n",
       "        text-align: right;\n",
       "    }\n",
       "</style>\n",
       "<table border=\"1\" class=\"dataframe\">\n",
       "  <thead>\n",
       "    <tr style=\"text-align: right;\">\n",
       "      <th></th>\n",
       "      <th>name</th>\n",
       "      <th>artist</th>\n",
       "      <th>album</th>\n",
       "      <th>duration_ms</th>\n",
       "      <th>popularity</th>\n",
       "      <th>played_at</th>\n",
       "    </tr>\n",
       "  </thead>\n",
       "  <tbody>\n",
       "    <tr>\n",
       "      <th>0</th>\n",
       "      <td>When You Were Young</td>\n",
       "      <td>The Killers</td>\n",
       "      <td>Sam's Town</td>\n",
       "      <td>220426</td>\n",
       "      <td>74</td>\n",
       "      <td>2023-01-31 21:35:34</td>\n",
       "    </tr>\n",
       "    <tr>\n",
       "      <th>1</th>\n",
       "      <td>No You Girls</td>\n",
       "      <td>Franz Ferdinand</td>\n",
       "      <td>Tonight</td>\n",
       "      <td>223786</td>\n",
       "      <td>59</td>\n",
       "      <td>2023-01-31 20:41:55</td>\n",
       "    </tr>\n",
       "    <tr>\n",
       "      <th>2</th>\n",
       "      <td>Breezeblocks</td>\n",
       "      <td>alt-J</td>\n",
       "      <td>An Awesome Wave</td>\n",
       "      <td>227080</td>\n",
       "      <td>70</td>\n",
       "      <td>2023-01-31 20:38:11</td>\n",
       "    </tr>\n",
       "    <tr>\n",
       "      <th>3</th>\n",
       "      <td>Just A Dream</td>\n",
       "      <td>Nelly</td>\n",
       "      <td>5.0</td>\n",
       "      <td>237800</td>\n",
       "      <td>72</td>\n",
       "      <td>2023-01-31 20:34:23</td>\n",
       "    </tr>\n",
       "    <tr>\n",
       "      <th>4</th>\n",
       "      <td>Cold Cold Cold</td>\n",
       "      <td>Cage The Elephant</td>\n",
       "      <td>Tell Me I'm Pretty</td>\n",
       "      <td>214386</td>\n",
       "      <td>66</td>\n",
       "      <td>2023-01-31 20:30:25</td>\n",
       "    </tr>\n",
       "  </tbody>\n",
       "</table>\n",
       "</div>"
      ],
      "text/plain": [
       "                  name             artist               album  duration_ms  \\\n",
       "0  When You Were Young        The Killers          Sam's Town       220426   \n",
       "1         No You Girls    Franz Ferdinand             Tonight       223786   \n",
       "2         Breezeblocks              alt-J     An Awesome Wave       227080   \n",
       "3         Just A Dream              Nelly                 5.0       237800   \n",
       "4       Cold Cold Cold  Cage The Elephant  Tell Me I'm Pretty       214386   \n",
       "\n",
       "   popularity            played_at  \n",
       "0          74  2023-01-31 21:35:34  \n",
       "1          59  2023-01-31 20:41:55  \n",
       "2          70  2023-01-31 20:38:11  \n",
       "3          72  2023-01-31 20:34:23  \n",
       "4          66  2023-01-31 20:30:25  "
      ]
     },
     "execution_count": 82,
     "metadata": {},
     "output_type": "execute_result"
    }
   ],
   "source": [
    "df = pd.read_csv(\"rencent_tracks.csv\")\n",
    "df.head()"
   ]
  },
  {
   "cell_type": "code",
   "execution_count": 169,
   "metadata": {},
   "outputs": [
    {
     "name": "stdout",
     "output_type": "stream",
     "text": [
      "<class 'pandas.core.frame.DataFrame'>\n",
      "RangeIndex: 61 entries, 0 to 60\n",
      "Data columns (total 8 columns):\n",
      " #   Column       Non-Null Count  Dtype         \n",
      "---  ------       --------------  -----         \n",
      " 0   name         61 non-null     object        \n",
      " 1   artist       61 non-null     object        \n",
      " 2   album        61 non-null     object        \n",
      " 3   duration_ms  61 non-null     int64         \n",
      " 4   popularity   61 non-null     int64         \n",
      " 5   played_at    61 non-null     datetime64[ns]\n",
      " 6   time         61 non-null     object        \n",
      " 7   section_day  61 non-null     int64         \n",
      "dtypes: datetime64[ns](1), int64(3), object(4)\n",
      "memory usage: 3.9+ KB\n"
     ]
    }
   ],
   "source": [
    "df.info()"
   ]
  },
  {
   "attachments": {},
   "cell_type": "markdown",
   "metadata": {},
   "source": [
    "# Most listened artists"
   ]
  },
  {
   "cell_type": "code",
   "execution_count": 141,
   "metadata": {},
   "outputs": [
    {
     "data": {
      "text/html": [
       "<div>\n",
       "<style scoped>\n",
       "    .dataframe tbody tr th:only-of-type {\n",
       "        vertical-align: middle;\n",
       "    }\n",
       "\n",
       "    .dataframe tbody tr th {\n",
       "        vertical-align: top;\n",
       "    }\n",
       "\n",
       "    .dataframe thead th {\n",
       "        text-align: right;\n",
       "    }\n",
       "</style>\n",
       "<table border=\"1\" class=\"dataframe\">\n",
       "  <thead>\n",
       "    <tr style=\"text-align: right;\">\n",
       "      <th></th>\n",
       "      <th>artist</th>\n",
       "      <th>num_list</th>\n",
       "    </tr>\n",
       "  </thead>\n",
       "  <tbody>\n",
       "    <tr>\n",
       "      <th>0</th>\n",
       "      <td>Imagine Dragons</td>\n",
       "      <td>5</td>\n",
       "    </tr>\n",
       "    <tr>\n",
       "      <th>1</th>\n",
       "      <td>The Killers</td>\n",
       "      <td>3</td>\n",
       "    </tr>\n",
       "    <tr>\n",
       "      <th>2</th>\n",
       "      <td>R. City</td>\n",
       "      <td>3</td>\n",
       "    </tr>\n",
       "    <tr>\n",
       "      <th>3</th>\n",
       "      <td>Black Eyed Peas</td>\n",
       "      <td>2</td>\n",
       "    </tr>\n",
       "    <tr>\n",
       "      <th>4</th>\n",
       "      <td>Twenty One Pilots</td>\n",
       "      <td>2</td>\n",
       "    </tr>\n",
       "  </tbody>\n",
       "</table>\n",
       "</div>"
      ],
      "text/plain": [
       "              artist num_list\n",
       "0    Imagine Dragons        5\n",
       "1        The Killers        3\n",
       "2            R. City        3\n",
       "3    Black Eyed Peas        2\n",
       "4  Twenty One Pilots        2"
      ]
     },
     "execution_count": 141,
     "metadata": {},
     "output_type": "execute_result"
    },
    {
     "data": {
      "image/png": "[encoded data removed]",
      "text/plain": [
       "<Figure size 640x480 with 1 Axes>"
      ]
     },
     "metadata": {},
     "output_type": "display_data"
    }
   ],
   "source": [
    "artist_most_played = df[\"artist\"].value_counts()\n",
    "\n",
    "artist_most_played = pd.DataFrame(df[\"artist\"].value_counts().reset_index().values, columns=[\"artist\", \"num_list\"])[0:5]\n",
    "sns.barplot(data=artist_most_played, y=\"artist\", x=\"num_list\")\n",
    "artist_most_played.head()"
   ]
  },
  {
   "attachments": {},
   "cell_type": "markdown",
   "metadata": {},
   "source": [
    "# Most listened tracks"
   ]
  },
  {
   "cell_type": "code",
   "execution_count": 140,
   "metadata": {},
   "outputs": [
    {
     "data": {
      "text/html": [
       "<div>\n",
       "<style scoped>\n",
       "    .dataframe tbody tr th:only-of-type {\n",
       "        vertical-align: middle;\n",
       "    }\n",
       "\n",
       "    .dataframe tbody tr th {\n",
       "        vertical-align: top;\n",
       "    }\n",
       "\n",
       "    .dataframe thead th {\n",
       "        text-align: right;\n",
       "    }\n",
       "</style>\n",
       "<table border=\"1\" class=\"dataframe\">\n",
       "  <thead>\n",
       "    <tr style=\"text-align: right;\">\n",
       "      <th></th>\n",
       "      <th>Track</th>\n",
       "      <th>repetitions</th>\n",
       "    </tr>\n",
       "  </thead>\n",
       "  <tbody>\n",
       "    <tr>\n",
       "      <th>0</th>\n",
       "      <td>Locked Away (feat. Adam Levine)</td>\n",
       "      <td>3</td>\n",
       "    </tr>\n",
       "    <tr>\n",
       "      <th>1</th>\n",
       "      <td>When You Were Young</td>\n",
       "      <td>2</td>\n",
       "    </tr>\n",
       "    <tr>\n",
       "      <th>2</th>\n",
       "      <td>Ride</td>\n",
       "      <td>1</td>\n",
       "    </tr>\n",
       "    <tr>\n",
       "      <th>3</th>\n",
       "      <td>Arre</td>\n",
       "      <td>1</td>\n",
       "    </tr>\n",
       "    <tr>\n",
       "      <th>4</th>\n",
       "      <td>Close Eyes</td>\n",
       "      <td>1</td>\n",
       "    </tr>\n",
       "  </tbody>\n",
       "</table>\n",
       "</div>"
      ],
      "text/plain": [
       "                             Track repetitions\n",
       "0  Locked Away (feat. Adam Levine)           3\n",
       "1              When You Were Young           2\n",
       "2                             Ride           1\n",
       "3                             Arre           1\n",
       "4                       Close Eyes           1"
      ]
     },
     "execution_count": 140,
     "metadata": {},
     "output_type": "execute_result"
    },
    {
     "data": {
      "image/png": "[encoded data removed]",
      "text/plain": [
       "<Figure size 640x480 with 1 Axes>"
      ]
     },
     "metadata": {},
     "output_type": "display_data"
    }
   ],
   "source": [
    "tracks_most_played = pd.DataFrame(df[\"name\"].value_counts().reset_index().values, columns=[\"Track\",\"repetitions\"])[0:5]\n",
    "sns.barplot(data=tracks_most_played, x=\"repetitions\", y=\"Track\")\n",
    "tracks_most_played.head()"
   ]
  },
  {
   "attachments": {},
   "cell_type": "markdown",
   "metadata": {},
   "source": [
    "# average song length"
   ]
  },
  {
   "cell_type": "code",
   "execution_count": 159,
   "metadata": {},
   "outputs": [
    {
     "data": {
      "text/plain": [
       "Timedelta('0 days 00:03:32.174622950')"
      ]
     },
     "execution_count": 159,
     "metadata": {},
     "output_type": "execute_result"
    }
   ],
   "source": [
    "track_mean_duration = pd.to_timedelta(df[\"duration_ms\"], unit='ms').mean()\n",
    "track_mean_duration"
   ]
  },
  {
   "cell_type": "code",
   "execution_count": 87,
   "metadata": {},
   "outputs": [
    {
     "data": {
      "text/plain": [
       "0   2023-01-31 21:35:34\n",
       "1   2023-01-31 20:41:55\n",
       "2   2023-01-31 20:38:11\n",
       "3   2023-01-31 20:34:23\n",
       "4   2023-01-31 20:30:25\n",
       "Name: played_at, dtype: datetime64[ns]"
      ]
     },
     "execution_count": 87,
     "metadata": {},
     "output_type": "execute_result"
    }
   ],
   "source": [
    "df[\"played_at\"] = pd.to_datetime(df[\"played_at\"])\n",
    "df[\"played_at\"].head()"
   ]
  },
  {
   "attachments": {},
   "cell_type": "markdown",
   "metadata": {},
   "source": [
    "### extract time of day"
   ]
  },
  {
   "cell_type": "code",
   "execution_count": 88,
   "metadata": {},
   "outputs": [
    {
     "data": {
      "text/plain": [
       "0    21:35:34\n",
       "1    20:41:55\n",
       "2    20:38:11\n",
       "3    20:34:23\n",
       "4    20:30:25\n",
       "Name: time, dtype: object"
      ]
     },
     "execution_count": 88,
     "metadata": {},
     "output_type": "execute_result"
    }
   ],
   "source": [
    "df[\"time\"] = df[\"played_at\"].dt.time\n",
    "df[\"time\"].head()"
   ]
  },
  {
   "attachments": {},
   "cell_type": "markdown",
   "metadata": {},
   "source": [
    "### section into hours: early morning, morning, afternoon, night"
   ]
  },
  {
   "cell_type": "code",
   "execution_count": 89,
   "metadata": {},
   "outputs": [],
   "source": [
    "hn1 = datetime.time(00,00,00)\n",
    "morning = datetime.time(6,0,0)\n",
    "afternoon = datetime.time(12,0,0)\n",
    "night = datetime.time(18,0,0)\n",
    "hn2 = datetime.time(23,59,59)\n"
   ]
  },
  {
   "cell_type": "code",
   "execution_count": 94,
   "metadata": {},
   "outputs": [
    {
     "data": {
      "text/html": [
       "<div>\n",
       "<style scoped>\n",
       "    .dataframe tbody tr th:only-of-type {\n",
       "        vertical-align: middle;\n",
       "    }\n",
       "\n",
       "    .dataframe tbody tr th {\n",
       "        vertical-align: top;\n",
       "    }\n",
       "\n",
       "    .dataframe thead th {\n",
       "        text-align: right;\n",
       "    }\n",
       "</style>\n",
       "<table border=\"1\" class=\"dataframe\">\n",
       "  <thead>\n",
       "    <tr style=\"text-align: right;\">\n",
       "      <th></th>\n",
       "      <th>name</th>\n",
       "      <th>artist</th>\n",
       "      <th>album</th>\n",
       "      <th>duration_ms</th>\n",
       "      <th>popularity</th>\n",
       "      <th>played_at</th>\n",
       "      <th>time</th>\n",
       "      <th>section_day</th>\n",
       "    </tr>\n",
       "  </thead>\n",
       "  <tbody>\n",
       "    <tr>\n",
       "      <th>0</th>\n",
       "      <td>When You Were Young</td>\n",
       "      <td>The Killers</td>\n",
       "      <td>Sam's Town</td>\n",
       "      <td>220426</td>\n",
       "      <td>74</td>\n",
       "      <td>2023-01-31 21:35:34</td>\n",
       "      <td>21:35:34</td>\n",
       "      <td>4</td>\n",
       "    </tr>\n",
       "    <tr>\n",
       "      <th>1</th>\n",
       "      <td>No You Girls</td>\n",
       "      <td>Franz Ferdinand</td>\n",
       "      <td>Tonight</td>\n",
       "      <td>223786</td>\n",
       "      <td>59</td>\n",
       "      <td>2023-01-31 20:41:55</td>\n",
       "      <td>20:41:55</td>\n",
       "      <td>4</td>\n",
       "    </tr>\n",
       "    <tr>\n",
       "      <th>2</th>\n",
       "      <td>Breezeblocks</td>\n",
       "      <td>alt-J</td>\n",
       "      <td>An Awesome Wave</td>\n",
       "      <td>227080</td>\n",
       "      <td>70</td>\n",
       "      <td>2023-01-31 20:38:11</td>\n",
       "      <td>20:38:11</td>\n",
       "      <td>4</td>\n",
       "    </tr>\n",
       "    <tr>\n",
       "      <th>3</th>\n",
       "      <td>Just A Dream</td>\n",
       "      <td>Nelly</td>\n",
       "      <td>5.0</td>\n",
       "      <td>237800</td>\n",
       "      <td>72</td>\n",
       "      <td>2023-01-31 20:34:23</td>\n",
       "      <td>20:34:23</td>\n",
       "      <td>4</td>\n",
       "    </tr>\n",
       "    <tr>\n",
       "      <th>4</th>\n",
       "      <td>Cold Cold Cold</td>\n",
       "      <td>Cage The Elephant</td>\n",
       "      <td>Tell Me I'm Pretty</td>\n",
       "      <td>214386</td>\n",
       "      <td>66</td>\n",
       "      <td>2023-01-31 20:30:25</td>\n",
       "      <td>20:30:25</td>\n",
       "      <td>4</td>\n",
       "    </tr>\n",
       "    <tr>\n",
       "      <th>...</th>\n",
       "      <td>...</td>\n",
       "      <td>...</td>\n",
       "      <td>...</td>\n",
       "      <td>...</td>\n",
       "      <td>...</td>\n",
       "      <td>...</td>\n",
       "      <td>...</td>\n",
       "      <td>...</td>\n",
       "    </tr>\n",
       "    <tr>\n",
       "      <th>56</th>\n",
       "      <td>When You Were Young</td>\n",
       "      <td>The Killers</td>\n",
       "      <td>Sam's Town</td>\n",
       "      <td>220426</td>\n",
       "      <td>74</td>\n",
       "      <td>2023-02-01 03:03:41</td>\n",
       "      <td>03:03:41</td>\n",
       "      <td>1</td>\n",
       "    </tr>\n",
       "    <tr>\n",
       "      <th>57</th>\n",
       "      <td>Warriors</td>\n",
       "      <td>Imagine Dragons</td>\n",
       "      <td>Smoke + Mirrors (Deluxe)</td>\n",
       "      <td>171040</td>\n",
       "      <td>71</td>\n",
       "      <td>2023-02-01 16:19:13</td>\n",
       "      <td>16:19:13</td>\n",
       "      <td>3</td>\n",
       "    </tr>\n",
       "    <tr>\n",
       "      <th>58</th>\n",
       "      <td>Radioactive</td>\n",
       "      <td>Imagine Dragons</td>\n",
       "      <td>Radioactive</td>\n",
       "      <td>276040</td>\n",
       "      <td>62</td>\n",
       "      <td>2023-02-01 16:16:22</td>\n",
       "      <td>16:16:22</td>\n",
       "      <td>3</td>\n",
       "    </tr>\n",
       "    <tr>\n",
       "      <th>59</th>\n",
       "      <td>For Reasons Unknown</td>\n",
       "      <td>The Killers</td>\n",
       "      <td>Sam's Town</td>\n",
       "      <td>212266</td>\n",
       "      <td>59</td>\n",
       "      <td>2023-02-01 16:11:45</td>\n",
       "      <td>16:11:45</td>\n",
       "      <td>3</td>\n",
       "    </tr>\n",
       "    <tr>\n",
       "      <th>60</th>\n",
       "      <td>Boulevard of Broken Dreams</td>\n",
       "      <td>Green Day</td>\n",
       "      <td>Boulevard of Broken Dreams</td>\n",
       "      <td>261266</td>\n",
       "      <td>71</td>\n",
       "      <td>2023-02-01 05:47:21</td>\n",
       "      <td>05:47:21</td>\n",
       "      <td>1</td>\n",
       "    </tr>\n",
       "  </tbody>\n",
       "</table>\n",
       "<p>61 rows × 8 columns</p>\n",
       "</div>"
      ],
      "text/plain": [
       "                          name             artist                       album  \\\n",
       "0          When You Were Young        The Killers                  Sam's Town   \n",
       "1                 No You Girls    Franz Ferdinand                     Tonight   \n",
       "2                 Breezeblocks              alt-J             An Awesome Wave   \n",
       "3                 Just A Dream              Nelly                         5.0   \n",
       "4               Cold Cold Cold  Cage The Elephant          Tell Me I'm Pretty   \n",
       "..                         ...                ...                         ...   \n",
       "56         When You Were Young        The Killers                  Sam's Town   \n",
       "57                    Warriors    Imagine Dragons    Smoke + Mirrors (Deluxe)   \n",
       "58                 Radioactive    Imagine Dragons                 Radioactive   \n",
       "59         For Reasons Unknown        The Killers                  Sam's Town   \n",
       "60  Boulevard of Broken Dreams          Green Day  Boulevard of Broken Dreams   \n",
       "\n",
       "    duration_ms  popularity           played_at      time  section_day  \n",
       "0        220426          74 2023-01-31 21:35:34  21:35:34            4  \n",
       "1        223786          59 2023-01-31 20:41:55  20:41:55            4  \n",
       "2        227080          70 2023-01-31 20:38:11  20:38:11            4  \n",
       "3        237800          72 2023-01-31 20:34:23  20:34:23            4  \n",
       "4        214386          66 2023-01-31 20:30:25  20:30:25            4  \n",
       "..          ...         ...                 ...       ...          ...  \n",
       "56       220426          74 2023-02-01 03:03:41  03:03:41            1  \n",
       "57       171040          71 2023-02-01 16:19:13  16:19:13            3  \n",
       "58       276040          62 2023-02-01 16:16:22  16:16:22            3  \n",
       "59       212266          59 2023-02-01 16:11:45  16:11:45            3  \n",
       "60       261266          71 2023-02-01 05:47:21  05:47:21            1  \n",
       "\n",
       "[61 rows x 8 columns]"
      ]
     },
     "execution_count": 94,
     "metadata": {},
     "output_type": "execute_result"
    }
   ],
   "source": [
    "df[\"section_day\"] = 1 # arly morning\n",
    "df.loc[(df[\"time\"]>= morning) & (df[\"time\"]<afternoon), \"section_day\"] = 2 # morning\n",
    "df.loc[(df[\"time\"]>= afternoon) & (df[\"time\"]<night), \"section_day\"] = 3 # afternoon\n",
    "df.loc[(df[\"time\"]>= night) & (df[\"time\"]<hn2), \"section_day\"] = 4  # night\n",
    "df"
   ]
  },
  {
   "attachments": {},
   "cell_type": "markdown",
   "metadata": {},
   "source": [
    "# time heard in each part of the hourly day"
   ]
  },
  {
   "cell_type": "code",
   "execution_count": 168,
   "metadata": {},
   "outputs": [
    {
     "data": {
      "text/plain": [
       "<AxesSubplot: xlabel='time_min', ylabel='section_day'>"
      ]
     },
     "execution_count": 168,
     "metadata": {},
     "output_type": "execute_result"
    },
    {
     "data": {
      "image/png": "[encoded data removed]",
      "text/plain": [
       "<Figure size 640x480 with 1 Axes>"
      ]
     },
     "metadata": {},
     "output_type": "display_data"
    }
   ],
   "source": [
    "df_time_listened = df[[\"section_day\",\"duration_ms\"]]\n",
    "df_time_listened = df_time_listened.replace([1,2,3,4],[\"early morning\",\"morning\",\"afternoon\",\"night\"])\n",
    "\n",
    "time_listened = pd.DataFrame(df_time_listened.groupby(\"section_day\").agg({\"duration_ms\":\"sum\"}).reset_index().values, columns=[\"section_day\",\"time_ms\"])\n",
    "time_listened[\"time_min\"] = (time_listened[\"time_ms\"]/1000)/60\n",
    "sns.barplot(data=time_listened,x=\"time_min\", y=\"section_day\")\n",
    "# time_listened_time = pd.DataFrame(pd.to_timedelta(time_listened[\"duration_ms\"], unit=\"ms\").reset_index().values,columns=[\"section_day\",\"time\"])\n",
    "# time_listened_time\n"
   ]
  }
 ],
 "metadata": {
  "kernelspec": {
   "display_name": "spotify-etl",
   "language": "python",
   "name": "python3"
  },
  "language_info": {
   "codemirror_mode": {
    "name": "ipython",
    "version": 3
   },
   "file_extension": ".py",
   "mimetype": "text/x-python",
   "name": "python",
   "nbconvert_exporter": "python",
   "pygments_lexer": "ipython3",
   "version": "3.9.12"
  },
  "orig_nbformat": 4,
  "vscode": {
   "interpreter": {
    "hash": "5d3340317db04482a53468b2eb89a998d29c2dfa9677c958a8797d93cd3951a7"
   }
  }
 },
 "nbformat": 4,
 "nbformat_minor": 2
}
